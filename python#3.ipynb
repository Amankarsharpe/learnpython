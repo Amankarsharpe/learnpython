{
 "cells": [
  {
   "cell_type": "code",
   "execution_count": 1,
   "metadata": {},
   "outputs": [
    {
     "name": "stdout",
     "output_type": "stream",
     "text": [
      "equilatral\n"
     ]
    }
   ],
   "source": [
    "b = int(input(\"enter  the side\"))\n",
    "c = int(input(\"enter  the side\"))\n",
    "a = int(input(\"enter the side\"))\n",
    "if a==b and b==c and c==a:\n",
    "    print(\"equilatral\")\n",
    "elif a==b or b==c or c==a:\n",
    "    print(\"isocellaus\")\n",
    "else:\n",
    "    print(\"scalen\")        "
   ]
  },
  {
   "cell_type": "code",
   "execution_count": 2,
   "metadata": {},
   "outputs": [
    {
     "name": "stdout",
     "output_type": "stream",
     "text": [
      "scalen\n"
     ]
    }
   ],
   "source": [
    "b = int(input(\"enter  the side\"))\n",
    "c = int(input(\"enter  the side\"))\n",
    "a = int(input(\"enter the side\"))\n",
    "if a+b>c and b+c>a and c+a>b:\n",
    "    print(\"hfjhhkjl\")\n",
    "\n",
    "else:\n",
    "    print(\"scalen\") \n",
    "\n"
   ]
  },
  {
   "cell_type": "code",
   "execution_count": null,
   "metadata": {},
   "outputs": [],
   "source": [
    "a = int(input(\"enter the no.\"))\n",
    "b = int(input(\"enter the no.\"))\n",
    "c = int(input(\"enter the no.\"))\n",
    "if a>b and a>c:\n",
    "    print()"
   ]
  },
  {
   "cell_type": "code",
   "execution_count": null,
   "metadata": {},
   "outputs": [
    {
     "name": "stdout",
     "output_type": "stream",
     "text": [
      "5 6 3\n"
     ]
    }
   ],
   "source": [
    "a = int(input(\"enter no.\"))\n",
    "b = int(input(\"enter no.\"))\n",
    "c = int(input(\"enter no.\"))\n",
    "if a>b and b>c and c>a:\n",
    "    print(c,b,a)\n",
    "elif b>a and b>c and c<a:\n",
    "    print(c,b,a) \n",
    "elif c>a and :\n",
    "    print(c,a,b)\n",
    "else:print(a,b,c)         "
   ]
  },
  {
   "cell_type": "markdown",
   "metadata": {},
   "source": [
    "if else question by using and  , or , not\n",
    "and the second assignment\n"
   ]
  },
  {
   "cell_type": "code",
   "execution_count": null,
   "metadata": {},
   "outputs": [],
   "source": [
    "num = int(input(\"enter no:\"))\n",
    "if num>0:\n",
    "    print(\"positive\")\n",
    "elif num<0:\n",
    "    print(\"negative\") \n",
    "else:\n",
    "    print (None)      "
   ]
  },
  {
   "cell_type": "code",
   "execution_count": null,
   "metadata": {},
   "outputs": [],
   "source": [
    "a = int(input(\"enter your no\"))\n",
    "if a%2==0:\n",
    "    print(\"no. is even\")\n",
    "    \n",
    "else:\n",
    "    print(\"it is not a odd no\") \n"
   ]
  },
  {
   "cell_type": "code",
   "execution_count": 5,
   "metadata": {},
   "outputs": [
    {
     "name": "stdout",
     "output_type": "stream",
     "text": [
      "E\n"
     ]
    }
   ],
   "source": [
    "marks = float(input(\"enter marks\"))\n",
    "if marks>=90:\n",
    "    print(\"A\")\n",
    "elif marks>=80:\n",
    "    print(\"B\")\n",
    "elif marks>=70:\n",
    "    print(\"C\")\n",
    "elif marks>=60:\n",
    "    print(\"D\")\n",
    "else:\n",
    "\n",
    "    print(\"E\")\n"
   ]
  },
  {
   "cell_type": "code",
   "execution_count": null,
   "metadata": {},
   "outputs": [],
   "source": [
    "num= int(input(\"enter the num\"))\n",
    "if num%3==0 and num%5==0:\n",
    "    print(\"number is divisible:\")\n",
    "else:\n",
    "    print(\"number is not divisible:\")"
   ]
  },
  {
   "cell_type": "code",
   "execution_count": 7,
   "metadata": {},
   "outputs": [
    {
     "name": "stdout",
     "output_type": "stream",
     "text": [
      "senior\n"
     ]
    }
   ],
   "source": [
    "age = int(input(\"enter age \"))\n",
    "if age<=12:\n",
    "    print(\"child\")\n",
    "elif age<=19:\n",
    "    print(\"teenager\")    \n",
    "elif age<=64:\n",
    "    print(\"Adult\")\n",
    "else:\n",
    "    print(\"senior\")\n"
   ]
  },
  {
   "cell_type": "code",
   "execution_count": null,
   "metadata": {},
   "outputs": [],
   "source": [
    "year = int(input(\"enter the year\"))\n",
    "if year%4==0 and year%100!=0 or year%400==0:\n",
    "    print(\"year is leep year:\")\n",
    "else:\n",
    "    print(\"not a leep year\")    "
   ]
  },
  {
   "cell_type": "code",
   "execution_count": null,
   "metadata": {},
   "outputs": [],
   "source": [
    "num1 = int(input(\"enter no:\"))\n",
    "num2 = int(input(\"enter no:\"))\n",
    "num3 = int(input(\"enter no:\"))\n",
    "if num1==num2 and num2==num3 and num3==num1:\n",
    "    print(\"All number are equal\")\n",
    "else:\n",
    "    print(\"number is not equal\")"
   ]
  },
  {
   "cell_type": "code",
   "execution_count": 9,
   "metadata": {},
   "outputs": [
    {
     "name": "stdout",
     "output_type": "stream",
     "text": [
      "second quadrant\n"
     ]
    }
   ],
   "source": [
    "x = int(input(\"enter the num1 :\"))\n",
    "y = int(input(\"enter the num2 :\"))\n",
    "if x>0 and y>0:\n",
    "    print(\"first quadrant\")\n",
    "elif x<0 and y>0:    \n",
    "    print(\"second quadrant\")\n",
    "elif x<0 and y<0:\n",
    "    print(\"third quadrant\")\n",
    "elif x>0 and y<0:   \n",
    "    print(\" fourt quadrant\")\n",
    "else:\n",
    "    print(None)    "
   ]
  },
  {
   "cell_type": "code",
   "execution_count": 10,
   "metadata": {},
   "outputs": [
    {
     "name": "stdout",
     "output_type": "stream",
     "text": [
      "Autumn\n"
     ]
    }
   ],
   "source": [
    "month = int(input(\"enter month\"))\n",
    "if 3<=month<=5:\n",
    "    print(\"spring\")\n",
    "if 6<=month<=8:\n",
    "    print(\"summer\")\n",
    "if 9<=month<=11:\n",
    "    print(\"Autumn\")\n",
    "else:\n",
    "    print(\"winter\")    "
   ]
  },
  {
   "cell_type": "code",
   "execution_count": 13,
   "metadata": {},
   "outputs": [
    {
     "name": "stdout",
     "output_type": "stream",
     "text": [
      "not in range\n"
     ]
    }
   ],
   "source": [
    "num1 = int(input(\"enter no :\"))\n",
    "num2 = int(input(\"enter no :\"))\n",
    "num3 = int(input(\"enter no :\"))\n",
    "if num3>num1 and num3<num2:\n",
    "    print(\"yes its in range\")\n",
    "else:\n",
    "    print(\"not in range\")"
   ]
  },
  {
   "cell_type": "code",
   "execution_count": null,
   "metadata": {},
   "outputs": [],
   "source": [
    "a = int(input(\"enter angle:\"))\n",
    "b = int(input(\"enter angle:\"))\n",
    "c = int(input(\"enter angle:\"))\n",
    "d = (a+b+c)\n",
    "if d==180:\n",
    "    print(\"it is triangle\")\n",
    "else:\n",
    "    print(\"not a triange\")    "
   ]
  },
  {
   "cell_type": "code",
   "execution_count": 2,
   "metadata": {},
   "outputs": [
    {
     "name": "stdout",
     "output_type": "stream",
     "text": [
      "25\n"
     ]
    }
   ],
   "source": [
    "num1 = int(input(\"enter 1st num\"))\n",
    "num2 = int(input(\"enter sec no\"))\n",
    "ope = (input(\"enter ope\"))\n",
    "if ope==(\"+\"):\n",
    "    print(num1+num2)\n",
    "elif ope==(\"-\"):\n",
    "    print(num1 -num)   \n",
    "elif ope==(\"*\"):\n",
    "    print(num1*num2) \n",
    "elif ope==(\"/\"):\n",
    "    print(num1/num2) \n",
    "elif ope==(\"%\"):\n",
    "    print(num1%num2)\n",
    "else:\n",
    "    print(None)    \n"
   ]
  },
  {
   "cell_type": "code",
   "execution_count": null,
   "metadata": {},
   "outputs": [
    {
     "name": "stdout",
     "output_type": "stream",
     "text": [
      "it is loss -500\n"
     ]
    }
   ],
   "source": [
    "c = int(input(\"enter the cost :\"))\n",
    "s = int(input(\"enter the sell price :\"))\n",
    "pro= (s-c)\n",
    "if c<=s:\n",
    "    print(\"it is profit:\",pro)\n",
    "elif s<=c:\n",
    "    print(\"it is loss:\",pro)   \n",
    "else:\n",
    "    print(None)     "
   ]
  },
  {
   "cell_type": "code",
   "execution_count": 14,
   "metadata": {},
   "outputs": [
    {
     "name": "stdout",
     "output_type": "stream",
     "text": [
      "sunday\n"
     ]
    }
   ],
   "source": [
    "week = int(input(\"enter the week day's\"))\n",
    "if week==1:\n",
    "    print(\"monday\")\n",
    "elif week==2:\n",
    "    print(\"tue\")\n",
    "elif week==3:\n",
    "    print(\"wed\")\n",
    "elif week==4:\n",
    "    print(\"thir\")\n",
    "elif week==5:\n",
    "    print(\"fir\")\n",
    "elif week==6:\n",
    "    print(\"set\")\n",
    "elif week==7:\n",
    "    print(\"sunday\")\n",
    "    \n",
    "\n",
    "    \n",
    "    "
   ]
  },
  {
   "cell_type": "code",
   "execution_count": 26,
   "metadata": {},
   "outputs": [
    {
     "name": "stdout",
     "output_type": "stream",
     "text": [
      "not in sequence\n"
     ]
    }
   ],
   "source": [
    "a = int(input(\"enter the number:\"))\n",
    "b = int(input(\"enter the number:\"))\n",
    "c = int(input(\"enter the number:\"))\n",
    "if a>b and b>c and a>c:\n",
    "    print(\"decreasing order:\")\n",
    "elif a<b and b<c and a<c:\n",
    "    print(\"increasing order:\")\n",
    "else:\n",
    "    print(\"not in sequence\")        "
   ]
  },
  {
   "cell_type": "code",
   "execution_count": 31,
   "metadata": {},
   "outputs": [
    {
     "name": "stdout",
     "output_type": "stream",
     "text": [
      "501\n"
     ]
    }
   ],
   "source": [
    "km = int(input(\"enter kms\"))\n",
    "b = (km*10+1)\n",
    "if km>10:\n",
    "    print(b)\n",
    "elif km>90:\n",
    "    print(not b) \n",
    "else:\n",
    "    print(not b)     "
   ]
  },
  {
   "cell_type": "code",
   "execution_count": 6,
   "metadata": {},
   "outputs": [
    {
     "name": "stdout",
     "output_type": "stream",
     "text": [
      "30.0\n"
     ]
    }
   ],
   "source": [
    "unit = int(input(\"enter unit\"))\n",
    "a = (unit*0.25)\n",
    "b = (unit*0.75)\n",
    "c = (unit*1.20)\n",
    "d = (unit*1.50)\n",
    "if unit>=50:\n",
    "    print(a+(a*20/100))\n",
    "elif unit>=150:\n",
    "    print(b+(b*20/100))  \n",
    "elif unit>=250:\n",
    "    print(c+(c*20/100))\n",
    "elif unit>=450:\n",
    "    print(d+(d*20/100))\n",
    "else:\n",
    "    print(None)             "
   ]
  }
 ],
 "metadata": {
  "kernelspec": {
   "display_name": "base",
   "language": "python",
   "name": "python3"
  },
  "language_info": {
   "codemirror_mode": {
    "name": "ipython",
    "version": 3
   },
   "file_extension": ".py",
   "mimetype": "text/x-python",
   "name": "python",
   "nbconvert_exporter": "python",
   "pygments_lexer": "ipython3",
   "version": "3.12.4"
  }
 },
 "nbformat": 4,
 "nbformat_minor": 2
}
