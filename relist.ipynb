{
 "cells": [
  {
   "cell_type": "code",
   "execution_count": 12,
   "metadata": {},
   "outputs": [
    {
     "name": "stdout",
     "output_type": "stream",
     "text": [
      "['aman ', 'ayush', 'ankush', 'ajay', 'ankur']\n"
     ]
    }
   ],
   "source": [
    "lst = [\"aman \",\"ayush\",\"ankush\",\"ajay\"]\n",
    "lst.append(\"ankur\")\n",
    "print(lst)"
   ]
  },
  {
   "cell_type": "code",
   "execution_count": 30,
   "metadata": {},
   "outputs": [],
   "source": [
    "# lst.insert(2,\"riya\")\n",
    "# print(lst)\n",
    "# print(lst[0])\n",
    "\n",
    "x=[2,35,63,74,24,[23,564,245632]]\n"
   ]
  },
  {
   "cell_type": "code",
   "execution_count": 29,
   "metadata": {},
   "outputs": [
    {
     "name": "stdout",
     "output_type": "stream",
     "text": [
      "['kiwi', 'banana', 'cherry']\n"
     ]
    }
   ],
   "source": [
    "f=[\"apple\",\"banana\",\"cherry\"]\n",
    "f[0]=\"kiwi\"\n",
    "print(f)\n"
   ]
  },
  {
   "cell_type": "code",
   "execution_count": 31,
   "metadata": {},
   "outputs": [
    {
     "name": "stdout",
     "output_type": "stream",
     "text": [
      "[23, 33, 563, 63633, 7, 345]\n"
     ]
    }
   ],
   "source": [
    "lst = [23,33,563,63633,345]\n",
    "lst.insert(-1,7)\n",
    "print(lst)"
   ]
  },
  {
   "cell_type": "code",
   "execution_count": 35,
   "metadata": {},
   "outputs": [
    {
     "name": "stdout",
     "output_type": "stream",
     "text": [
      "[4, 4, 22, 24, 242, 243, 2324, 25223]\n"
     ]
    }
   ],
   "source": [
    "lst4 =[24,22,4,242,4]\n",
    "lst5=[243,25223,2324]\n",
    "lst4.extend(lst5)\n",
    "lst4.sort()\n",
    "print(lst4)"
   ]
  },
  {
   "cell_type": "code",
   "execution_count": 47,
   "metadata": {},
   "outputs": [
    {
     "name": "stdout",
     "output_type": "stream",
     "text": [
      "[43, 363, 2356, 23]\n",
      "[43, 363, 2356]\n"
     ]
    }
   ],
   "source": [
    "lst7=[35,43,363,2356,23]\n",
    "del lst7[0]\n",
    "print(lst7)\n",
    "lst7.pop(3)\n",
    "print(lst7)"
   ]
  },
  {
   "cell_type": "code",
   "execution_count": 26,
   "metadata": {},
   "outputs": [
    {
     "name": "stdout",
     "output_type": "stream",
     "text": [
      "['d', 'f', 'r']\n",
      "[2483, 8437, 743, 424, 23]\n",
      "[23, 424, 743, 8437, 2483]\n",
      "[23, 424, 743, 8437]\n"
     ]
    }
   ],
   "source": [
    "lst = [\"d\",\"f\",\"r\",\"f\"]\n",
    "print(lst[0:3:])\n",
    "lst = [23,424,743,8437,2483]\n",
    "print(lst[::-1])\n",
    "print(lst[::1])\n",
    "print(lst[0:-1:])\n"
   ]
  },
  {
   "cell_type": "code",
   "execution_count": 30,
   "metadata": {},
   "outputs": [
    {
     "name": "stdout",
     "output_type": "stream",
     "text": [
      "[True, False]\n"
     ]
    }
   ],
   "source": [
    "lst2 =[23,34,232.34,\"ayush\",False,True]\n",
    "print(lst2[-1:-3:-1])"
   ]
  }
 ],
 "metadata": {
  "kernelspec": {
   "display_name": "base",
   "language": "python",
   "name": "python3"
  },
  "language_info": {
   "codemirror_mode": {
    "name": "ipython",
    "version": 3
   },
   "file_extension": ".py",
   "mimetype": "text/x-python",
   "name": "python",
   "nbconvert_exporter": "python",
   "pygments_lexer": "ipython3",
   "version": "3.12.4"
  }
 },
 "nbformat": 4,
 "nbformat_minor": 2
}
