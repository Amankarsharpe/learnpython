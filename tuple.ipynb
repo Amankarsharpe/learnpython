{
 "cells": [
  {
   "cell_type": "code",
   "execution_count": null,
   "metadata": {},
   "outputs": [],
   "source": [
    "t = (34,34,9274,3749,38439,\"ram\",\"karan\",[true,fale])#it is also nested tuple\n",
    "#it is a imutable list can be change but tuple can't change"
   ]
  },
  {
   "cell_type": "code",
   "execution_count": 3,
   "metadata": {},
   "outputs": [
    {
     "name": "stdout",
     "output_type": "stream",
     "text": [
      "<class 'str'>\n",
      "<class 'tuple'>\n"
     ]
    }
   ],
   "source": [
    "t = ('4')\n",
    "print(type(t))#comma is mandatery\n",
    "r = ('4',)\n",
    "print(type(r))"
   ]
  },
  {
   "cell_type": "code",
   "execution_count": 5,
   "metadata": {},
   "outputs": [
    {
     "name": "stdout",
     "output_type": "stream",
     "text": [
      "56\n"
     ]
    }
   ],
   "source": [
    "# e = '4',\n",
    "# print(type(e))\n",
    "\n",
    "t = (\"xyz\",(1,3,4,56,77))\n",
    "print(t[1][-2])"
   ]
  },
  {
   "cell_type": "code",
   "execution_count": null,
   "metadata": {},
   "outputs": [],
   "source": [
    "#creating tuple \n",
    "tpl = (1,2,3,4,5,6)\n",
    "tpl [2]='x' #will get type error'\n",
    "\n"
   ]
  },
  {
   "cell_type": "code",
   "execution_count": null,
   "metadata": {},
   "outputs": [
    {
     "ename": "NameError",
     "evalue": "name 'tpl' is not defined",
     "output_type": "error",
     "traceback": [
      "\u001b[31m---------------------------------------------------------------------------\u001b[39m",
      "\u001b[31mNameError\u001b[39m                                 Traceback (most recent call last)",
      "\u001b[36mCell\u001b[39m\u001b[36m \u001b[39m\u001b[32mIn[6]\u001b[39m\u001b[32m, line 2\u001b[39m\n\u001b[32m      1\u001b[39m tup = (\u001b[32m2\u001b[39m,[\u001b[32m3\u001b[39m,\u001b[32m2.3\u001b[39m,\u001b[33m\"\u001b[39m\u001b[33mhello\u001b[39m\u001b[33m\"\u001b[39m],(\u001b[32m1\u001b[39m,\u001b[32m2\u001b[39m,\u001b[32m3\u001b[39m))\n\u001b[32m----> \u001b[39m\u001b[32m2\u001b[39m \u001b[43mtpl\u001b[49m [\u001b[32m1\u001b[39m][\u001b[32m2\u001b[39m] = \u001b[33m'\u001b[39m\u001b[33mpython\u001b[39m\u001b[33m'\u001b[39m\n\u001b[32m      3\u001b[39m \u001b[38;5;28mprint\u001b[39m(tpl)\n",
      "\u001b[31mNameError\u001b[39m: name 'tpl' is not defined"
     ]
    }
   ],
   "source": [
    "tup = (2,[3,2.3,\"hello\"],(1,2,3))\n",
    "tpl [1][2] = 'python'\n",
    "print(tpl)#we can not delete the element of tuple but we can only delete the tuple only \n",
    "#but we can use the every function with list under the tuple"
   ]
  },
  {
   "cell_type": "code",
   "execution_count": null,
   "metadata": {},
   "outputs": [
    {
     "name": "stdout",
     "output_type": "stream",
     "text": [
      "1\n",
      "(4, (1, 334, 5, 6, 73, 5, 65, 5, 5, 5), 5, 5)\n",
      "(2, 35, 543)\n"
     ]
    }
   ],
   "source": [
    "i = (4,(1,334,5,6,73,5,65,5,5,5,),5,5,5,)\n",
    "print(i[1][0])\n",
    "print(i[0:4:])\n",
    "\n",
    "i =2,35,543\n",
    "print(i)\n",
    "\n",
    "tpl = (2,45,45,3,363,32,534,4,4,532,5)\n",
    "\n",
    "\n"
   ]
  },
  {
   "cell_type": "code",
   "execution_count": 1,
   "metadata": {},
   "outputs": [
    {
     "name": "stdout",
     "output_type": "stream",
     "text": [
      "(4, 353, 35, (6, 3, 56, 7, 53, 4), 89, 6, 67, 5, 2, 4, 2)\n",
      "True\n",
      "False\n"
     ]
    }
   ],
   "source": [
    "t = (2,4,2,5,67,6,89,(6,3,56,7,53,4),35,353,4)\n",
    "print(t[-1:-50:-1])\n",
    "print(67 in t)\n",
    "print(22 in t)"
   ]
  },
  {
   "cell_type": "code",
   "execution_count": 23,
   "metadata": {},
   "outputs": [
    {
     "name": "stdout",
     "output_type": "stream",
     "text": [
      "(1, 2, 3, 4, '2,', 3, 2)\n"
     ]
    }
   ],
   "source": [
    "tpl = (1,2,3,4,)\n",
    "tpl2 = '2,',3,2,\n",
    "tpl3= tpl + tpl2\n",
    "print(tpl3)"
   ]
  },
  {
   "cell_type": "code",
   "execution_count": 24,
   "metadata": {},
   "outputs": [
    {
     "name": "stdout",
     "output_type": "stream",
     "text": [
      "(1, 2, 3, 4, 1, 2, 3, 4, 1, 2, 3, 4)\n"
     ]
    }
   ],
   "source": [
    "tpl5 = tpl*3\n",
    "print(tpl5)"
   ]
  },
  {
   "cell_type": "code",
   "execution_count": null,
   "metadata": {},
   "outputs": [
    {
     "ename": "TypeError",
     "evalue": "'builtin_function_or_method' object is not iterable",
     "output_type": "error",
     "traceback": [
      "\u001b[31m---------------------------------------------------------------------------\u001b[39m",
      "\u001b[31mTypeError\u001b[39m                                 Traceback (most recent call last)",
      "\u001b[36mCell\u001b[39m\u001b[36m \u001b[39m\u001b[32mIn[39]\u001b[39m\u001b[32m, line 5\u001b[39m\n\u001b[32m      2\u001b[39m t = \u001b[38;5;28msorted\u001b[39m\n\u001b[32m      3\u001b[39m \u001b[38;5;66;03m#take elements in the tuple and retuen a new sorted list \u001b[39;00m\n\u001b[32m      4\u001b[39m \u001b[38;5;66;03m#(does not sort the tuple itself)\u001b[39;00m\n\u001b[32m----> \u001b[39m\u001b[32m5\u001b[39m new_t = \u001b[38;5;28;43msorted\u001b[39;49m\u001b[43m(\u001b[49m\u001b[43mt\u001b[49m\u001b[43m,\u001b[49m\u001b[43mreverse\u001b[49m\u001b[43m=\u001b[49m\u001b[38;5;28;43;01mTrue\u001b[39;49;00m\u001b[43m)\u001b[49m\n\u001b[32m      6\u001b[39m \u001b[38;5;66;03m#tuple alwayse sorted the vareable in lst \u001b[39;00m\n\u001b[32m      7\u001b[39m \u001b[38;5;66;03m#\u001b[39;00m\n\u001b[32m      8\u001b[39m \u001b[38;5;28mprint\u001b[39m(new_t)\n",
      "\u001b[31mTypeError\u001b[39m: 'builtin_function_or_method' object is not iterable"
     ]
    }
   ],
   "source": [
    "t =(4,5,2,1,56,7)\n",
    "#take elements in the tuple and retuen a new sorted list \n",
    "#(does not sort the tuple itself)\n",
    "new_t = sorted(t,reverse=True)\n",
    "#tuple alwayse sorted the vareable in lst \n",
    "#\n",
    "print(new_t)\n",
    "new_t = tuple(new_t)\n",
    "print(new_t)\n"
   ]
  },
  {
   "cell_type": "code",
   "execution_count": 42,
   "metadata": {},
   "outputs": [
    {
     "name": "stdout",
     "output_type": "stream",
     "text": [
      "not\n",
      "not\n",
      "not\n",
      "not\n",
      "not\n",
      "not\n"
     ]
    }
   ],
   "source": [
    "tpl = (3,5,7,11,12,45)\n",
    "m =0\n",
    "for i in range(len(tpl)):\n",
    "    m+=tpl[i]\n",
    "    if tpl[i]<tpl[i]:\n",
    "        print(\"it is ass\")\n",
    "    else:\n",
    "        print(\"not\")    "
   ]
  },
  {
   "cell_type": "code",
   "execution_count": 3,
   "metadata": {},
   "outputs": [
    {
     "name": "stdout",
     "output_type": "stream",
     "text": [
      "f is sorted\n"
     ]
    }
   ],
   "source": [
    "f =(3,35,5,6,734,74)\n",
    "for i in range (1,len(f)):\n",
    "    if f[i]>f[i-1]:\n",
    "        print(\"f is sorted\")\n",
    "        break\n",
    "    else:\n",
    "        print(\"f is not sorted\")\n",
    "        break"
   ]
  }
 ],
 "metadata": {
  "kernelspec": {
   "display_name": "Python 3",
   "language": "python",
   "name": "python3"
  },
  "language_info": {
   "codemirror_mode": {
    "name": "ipython",
    "version": 3
   },
   "file_extension": ".py",
   "mimetype": "text/x-python",
   "name": "python",
   "nbconvert_exporter": "python",
   "pygments_lexer": "ipython3",
   "version": "3.12.4"
  }
 },
 "nbformat": 4,
 "nbformat_minor": 2
}
