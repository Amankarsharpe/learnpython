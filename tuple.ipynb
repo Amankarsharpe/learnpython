{
 "cells": [
  {
   "cell_type": "code",
   "execution_count": null,
   "metadata": {},
   "outputs": [],
   "source": [
    "t = (34,34,9274,3749,38439,\"ram\",\"karan\",[true,fale])#it is also nested tuple\n",
    "#it is a imutable list can be change but tuple can't change"
   ]
  },
  {
   "cell_type": "code",
   "execution_count": 3,
   "metadata": {},
   "outputs": [
    {
     "name": "stdout",
     "output_type": "stream",
     "text": [
      "<class 'str'>\n",
      "<class 'tuple'>\n"
     ]
    }
   ],
   "source": [
    "t = ('4')\n",
    "print(type(t))#comma is mandatery\n",
    "r = ('4',)\n",
    "print(type(r))"
   ]
  },
  {
   "cell_type": "code",
   "execution_count": 5,
   "metadata": {},
   "outputs": [
    {
     "name": "stdout",
     "output_type": "stream",
     "text": [
      "56\n"
     ]
    }
   ],
   "source": [
    "# e = '4',\n",
    "# print(type(e))\n",
    "\n",
    "t = (\"xyz\",(1,3,4,56,77))\n",
    "print(t[1][-2])"
   ]
  },
  {
   "cell_type": "code",
   "execution_count": null,
   "metadata": {},
   "outputs": [],
   "source": [
    "#creating tuple \n",
    "tpl = (1,2,3,4,5,6)\n",
    "tpl [2]='x' #will get type error'\n",
    "\n"
   ]
  },
  {
   "cell_type": "code",
   "execution_count": null,
   "metadata": {},
   "outputs": [
    {
     "ename": "NameError",
     "evalue": "name 'tpl' is not defined",
     "output_type": "error",
     "traceback": [
      "\u001b[31m---------------------------------------------------------------------------\u001b[39m",
      "\u001b[31mNameError\u001b[39m                                 Traceback (most recent call last)",
      "\u001b[36mCell\u001b[39m\u001b[36m \u001b[39m\u001b[32mIn[6]\u001b[39m\u001b[32m, line 2\u001b[39m\n\u001b[32m      1\u001b[39m tup = (\u001b[32m2\u001b[39m,[\u001b[32m3\u001b[39m,\u001b[32m2.3\u001b[39m,\u001b[33m\"\u001b[39m\u001b[33mhello\u001b[39m\u001b[33m\"\u001b[39m],(\u001b[32m1\u001b[39m,\u001b[32m2\u001b[39m,\u001b[32m3\u001b[39m))\n\u001b[32m----> \u001b[39m\u001b[32m2\u001b[39m \u001b[43mtpl\u001b[49m [\u001b[32m1\u001b[39m][\u001b[32m2\u001b[39m] = \u001b[33m'\u001b[39m\u001b[33mpython\u001b[39m\u001b[33m'\u001b[39m\n\u001b[32m      3\u001b[39m \u001b[38;5;28mprint\u001b[39m(tpl)\n",
      "\u001b[31mNameError\u001b[39m: name 'tpl' is not defined"
     ]
    }
   ],
   "source": [
    "tup = (2,[3,2.3,\"hello\"],(1,2,3))\n",
    "tpl [1][2] = 'python'\n",
    "print(tpl)#we can not delete the element of tuple but we can only delete the tuple only \n",
    "#but we can use the every function with list under the tuple"
   ]
  },
  {
   "cell_type": "code",
   "execution_count": null,
   "metadata": {},
   "outputs": [
    {
     "name": "stdout",
     "output_type": "stream",
     "text": [
      "1\n",
      "(4, (1, 334, 5, 6, 73, 5, 65, 5, 5, 5), 5, 5)\n",
      "(2, 35, 543)\n"
     ]
    }
   ],
   "source": [
    "i = (4,(1,334,5,6,73,5,65,5,5,5,),5,5,5,)\n",
    "print(i[1][0])\n",
    "print(i[0:4:])\n",
    "\n",
    "i =2,35,543\n",
    "print(i)\n",
    "\n",
    "tpl = (2,45,45,3,363,32,534,4,4,532,5)\n",
    "\n",
    "\n"
   ]
  }
 ],
 "metadata": {
  "kernelspec": {
   "display_name": "base",
   "language": "python",
   "name": "python3"
  },
  "language_info": {
   "codemirror_mode": {
    "name": "ipython",
    "version": 3
   },
   "file_extension": ".py",
   "mimetype": "text/x-python",
   "name": "python",
   "nbconvert_exporter": "python",
   "pygments_lexer": "ipython3",
   "version": "3.12.4"
  }
 },
 "nbformat": 4,
 "nbformat_minor": 2
}
