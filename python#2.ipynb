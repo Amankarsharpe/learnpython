{
 "cells": [
  {
   "cell_type": "markdown",
   "metadata": {},
   "source": [
    "these is the home work of coaching"
   ]
  },
  {
   "cell_type": "code",
   "execution_count": 3,
   "metadata": {},
   "outputs": [
    {
     "name": "stdout",
     "output_type": "stream",
     "text": [
      "number is positive\n"
     ]
    }
   ],
   "source": [
    "num = int(input(\"enter no:\"))\n",
    "if num>=0:\n",
    "    print(\"number is positive\")\n",
    "else:\n",
    "    print(\"number is nagative\")    "
   ]
  },
  {
   "cell_type": "code",
   "execution_count": 3,
   "metadata": {},
   "outputs": [
    {
     "name": "stdout",
     "output_type": "stream",
     "text": [
      "you can'vote\n"
     ]
    }
   ],
   "source": [
    "age = int(input(\"enter your age\"))\n",
    "if age>=18:\n",
    "    print(\"you can vote\")\n",
    "else:\n",
    "    print(\"you can'vote\")"
   ]
  },
  {
   "cell_type": "code",
   "execution_count": 4,
   "metadata": {},
   "outputs": [
    {
     "name": "stdout",
     "output_type": "stream",
     "text": [
      "you are child\n"
     ]
    }
   ],
   "source": [
    "age = int(input(\"enter your age\"))\n",
    "if age <=12:\n",
    "    print(\"you are child\")\n",
    "elif age<19:\n",
    "    print(\"you are teen\")\n",
    "elif age<45:\n",
    "    print(\"you are adult\")\n",
    "else:\n",
    "    print(\"you are senior\")\n"
   ]
  },
  {
   "cell_type": "code",
   "execution_count": null,
   "metadata": {},
   "outputs": [
    {
     "name": "stdout",
     "output_type": "stream",
     "text": [
      "it is not a odd no\n"
     ]
    }
   ],
   "source": [
    "a = int(input(\"enter your no\"))\n",
    "if a%2==0:\n",
    "    print(\"no. is even\")\n",
    "    \n",
    "else:\n",
    "    print(\"it is not a odd no\")    "
   ]
  },
  {
   "cell_type": "code",
   "execution_count": null,
   "metadata": {},
   "outputs": [],
   "source": [
    "a = int(input(\"enter the no.\"))\n",
    "if a>=18:\n",
    "    print(\"you are  18++\")\n",
    "else:\n",
    "    print(\"you are not 18++\")  \n",
    "\n"
   ]
  },
  {
   "cell_type": "code",
   "execution_count": null,
   "metadata": {},
   "outputs": [],
   "source": [
    "num1 = int(input(\"enter 1st no:\"))\n",
    "num2 = int(input(\"enter 2sec no:\"))\n",
    "sum = (num1+num2)\n",
    "if sum>=10:\n",
    "    print(\"greater\")\n",
    "else:\n",
    "    print(\"less\")    \n",
    "    "
   ]
  },
  {
   "cell_type": "code",
   "execution_count": 11,
   "metadata": {},
   "outputs": [
    {
     "name": "stdout",
     "output_type": "stream",
     "text": [
      "both are same 2 2\n"
     ]
    }
   ],
   "source": [
    "num1 = int(input(\"enter 1st no:\"))\n",
    "num2 = int(input(\"enter 2sec no:\"))\n",
    "if num1<num2:\n",
    "    print(\"greter no. is:\",num2)\n",
    "elif num1>num2:\n",
    "    print(\"greter no. is:\",num1)\n",
    "else:\n",
    "    print(\"both are same\" ,num1,num2)        "
   ]
  },
  {
   "cell_type": "code",
   "execution_count": null,
   "metadata": {},
   "outputs": [
    {
     "name": "stdout",
     "output_type": "stream",
     "text": [
      "dicisible\n"
     ]
    }
   ],
   "source": [
    "num = int(input(\"enter no.\"))\n",
    "if num%5==0:\n",
    "    print(\"divisible\")\n",
    "else:\n",
    "    print(\"not divisible\")    "
   ]
  },
  {
   "cell_type": "code",
   "execution_count": 17,
   "metadata": {},
   "outputs": [
    {
     "name": "stdout",
     "output_type": "stream",
     "text": [
      "quadrilatral\n"
     ]
    }
   ],
   "source": [
    "a = int(input(\"enter side a:\"))\n",
    "b = int(input(\"enter side b:\"))\n",
    "c = int(input(\"enter side c:\"))\n",
    "d = int(input(\"enter side d:\"))\n",
    "sum = (a+b+c+d)\n",
    "if sum==360:\n",
    "    print(\"quadrilatral\")\n",
    "else:\n",
    "    print(\"not quadrilateral\")    "
   ]
  },
  {
   "cell_type": "code",
   "execution_count": null,
   "metadata": {},
   "outputs": [],
   "source": []
  }
 ],
 "metadata": {
  "kernelspec": {
   "display_name": "base",
   "language": "python",
   "name": "python3"
  },
  "language_info": {
   "codemirror_mode": {
    "name": "ipython",
    "version": 3
   },
   "file_extension": ".py",
   "mimetype": "text/x-python",
   "name": "python",
   "nbconvert_exporter": "python",
   "pygments_lexer": "ipython3",
   "version": "3.12.4"
  }
 },
 "nbformat": 4,
 "nbformat_minor": 2
}
