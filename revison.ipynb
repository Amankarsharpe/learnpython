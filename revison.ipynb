{
 "cells": [
  {
   "cell_type": "code",
   "execution_count": 4,
   "metadata": {},
   "outputs": [
    {
     "name": "stdout",
     "output_type": "stream",
     "text": [
      "this in not a leap year\n"
     ]
    }
   ],
   "source": [
    "year = int(input(\"enter leap year\"))\n",
    "if year%4==0 and year%100!=0 or year%400==0:\n",
    "    print(\"this is leap year \")\n",
    "else:\n",
    "    print(\"this in not a leap year\")    "
   ]
  },
  {
   "cell_type": "code",
   "execution_count": 43,
   "metadata": {
    "vscode": {
     "languageId": "javascript"
    }
   },
   "outputs": [
    {
     "name": "stdout",
     "output_type": "stream",
     "text": [
      "[34, 23, 1, 2, 9, 8, 7, 3, 35, 6, '55 , 44']\n"
     ]
    }
   ],
   "source": [
    "lst = [4,34,23,1,2,7,8,7,]\n",
    "\n",
    "lst.pop(5)\n",
    "lst.remove(4)\n",
    "lst.insert(-2,9,)\n",
    "lst.sort\n",
    "a = [3,35,6]\n",
    "lst.extend(a)\n",
    "lst.append(\"55 , 44\")\n",
    "print(lst)"
   ]
  },
  {
   "cell_type": "code",
   "execution_count": 39,
   "metadata": {
    "vscode": {
     "languageId": "javascript"
    }
   },
   "outputs": [
    {
     "name": "stdout",
     "output_type": "stream",
     "text": [
      "[23, 44, 335, 556, 789]\n",
      "[23, 44, 556, 789, 335]\n"
     ]
    }
   ],
   "source": [
    "school = [23,44,556,789,335,]\n",
    "y = sorted(school)\n",
    "print(y)\n",
    "print(school)\n"
   ]
  },
  {
   "cell_type": "code",
   "execution_count": 3,
   "metadata": {},
   "outputs": [
    {
     "ename": "TypeError",
     "evalue": "list.append() takes exactly one argument (3 given)",
     "output_type": "error",
     "traceback": [
      "\u001b[1;31m---------------------------------------------------------------------------\u001b[0m",
      "\u001b[1;31mTypeError\u001b[0m                                 Traceback (most recent call last)",
      "Cell \u001b[1;32mIn[3], line 2\u001b[0m\n\u001b[0;32m      1\u001b[0m home \u001b[38;5;241m=\u001b[39m [\u001b[38;5;241m33\u001b[39m,\u001b[38;5;241m222\u001b[39m,\u001b[38;5;241m666\u001b[39m,\u001b[38;5;241m888\u001b[39m,\u001b[38;5;241m99\u001b[39m,\u001b[38;5;241m234\u001b[39m,\u001b[38;5;124m\"\u001b[39m\u001b[38;5;124mriya\u001b[39m\u001b[38;5;124m\"\u001b[39m,\u001b[38;5;124m\"\u001b[39m\u001b[38;5;124mrohan\u001b[39m\u001b[38;5;124m\"\u001b[39m,\u001b[38;5;124m\"\u001b[39m\u001b[38;5;124mkaran\u001b[39m\u001b[38;5;124m\"\u001b[39m,]\n\u001b[1;32m----> 2\u001b[0m home\u001b[38;5;241m.\u001b[39mappend(\u001b[38;5;241m0\u001b[39m,\u001b[38;5;241m99\u001b[39m,\u001b[38;5;124m\"\u001b[39m\u001b[38;5;124msiya\u001b[39m\u001b[38;5;124m\"\u001b[39m,)\n\u001b[0;32m      3\u001b[0m home\u001b[38;5;241m.\u001b[39minsert(\u001b[38;5;241m-\u001b[39m\u001b[38;5;241m2\u001b[39m,\u001b[38;5;241m777\u001b[39m) \u001b[38;5;66;03m#it is works from nagetive said\u001b[39;00m\n\u001b[0;32m      4\u001b[0m home\u001b[38;5;241m.\u001b[39mpop(\u001b[38;5;241m3\u001b[39m)\n",
      "\u001b[1;31mTypeError\u001b[0m: list.append() takes exactly one argument (3 given)"
     ]
    }
   ],
   "source": [
    "home = [33,222,666,888,99,234,\"riya\",\"rohan\",\"karan\",]\n",
    "home.append(0,99,\"siya\",)\n",
    "home.insert(-2,777) #it is works from nagetive said\n",
    "home.pop(3)\n",
    "del (home)\n",
    "print(home)\n",
    "\n",
    "\n",
    "\n",
    "\n",
    "\n",
    "\n",
    "'''           \n",
    "append\n",
    "insert\n",
    "extend\n",
    "del\n",
    "pop\n",
    "delete\n",
    "index\n",
    "count\n",
    "sort\n",
    "sort(reverse=True)\n",
    "sorted with new variable\n",
    "remove\n",
    "extend\n",
    "\n",
    "\n",
    "# '''  \n",
    "# mylist = [3,5,2,7,8,4,12,17,19,22]\n",
    "\n",
    "# for i in range (len(mylist)):\n",
    "#     if mylist[i]%2==0:\n",
    "#         mylist[i]+=5\n",
    "#     else:\n",
    "#         mylist[i]-=7\n",
    "# print(mylist) \n"
   ]
  },
  {
   "cell_type": "code",
   "execution_count": null,
   "metadata": {},
   "outputs": [],
   "source": [
    "mylist = [3,5,2,7,8,4,12,17,19,22]\n",
    "\n",
    "for i in range (len(mylist)):\n",
    "    if mylist[i]%2==0:\n",
    "        mylist[i]+=5\n",
    "    else:\n",
    "        mylist[i]-=7\n",
    "print(mylist) \n"
   ]
  },
  {
   "cell_type": "code",
   "execution_count": null,
   "metadata": {},
   "outputs": [],
   "source": [
    "'''WAP to find discount and final selling price Of article\n",
    "if MRP is greater to 1000 then discount will be 10% \n",
    "and if mrp is less than 1000 then discount is 5% '''\n",
    "\n",
    "\n",
    "mrp = int(input(\"enter the mrp\"))\n",
    "if mrp>=1000:\n",
    "    dis=mrp*10/100\n",
    "    print(\"dicount is \",dis)\n",
    "    sell_price = mrp-dis\n",
    "    print(\"this is finnel price\",sell_price)\n",
    "else:\n",
    "    dis=mrp*5/100\n",
    "    print(\"discount is \",dis)  \n",
    "    sell_price = mrp-dis\n",
    "    print(\"this is finnel price\",sell_price)  \n",
    "\n",
    "\n"
   ]
  },
  {
   "cell_type": "code",
   "execution_count": null,
   "metadata": {},
   "outputs": [],
   "source": []
  },
  {
   "cell_type": "markdown",
   "metadata": {},
   "source": [
    "### **Python Quick Revision – Short & Easy** 🚀  \n",
    "\n",
    "---\n",
    "\n",
    "### **1️⃣ Variables & Rules**  \n",
    "🔹 **Variable** ek container hota hai jo values store karta hai.  \n",
    "🔹 Rules:  \n",
    "✅ Name **letter ya underscore (`_`)** se start ho.  \n",
    "✅ **Space nahi** ho sakta.  \n",
    "✅ **Keywords ka use nahi** kar sakte.  \n",
    "\n",
    "Example:  \n",
    "```python\n",
    "name = \"Aman\"\n",
    "age = 20\n",
    "```\n",
    "\n",
    "---\n",
    "\n",
    "### **2️⃣ Data Types**  \n",
    "📌 Python me main **data types**:  \n",
    "| Data Type  | Example |\n",
    "|------------|---------|\n",
    "| `int` (Integer) | `num = 10` |\n",
    "| `float` (Decimal) | `pi = 3.14` |\n",
    "| `str` (String) | `text = \"Hello\"` |\n",
    "| `bool` (Boolean) | `flag = True` |\n",
    "| `list` (List) | `fruits = [\"apple\", \"mango\"]` |\n",
    "| `tuple` (Tuple) | `point = (2, 3)` |\n",
    "| `dict` (Dictionary) | `person = {\"name\": \"Aman\", \"age\": 20}` |\n",
    "\n",
    "---\n",
    "\n",
    "### **3️⃣ Keywords (Python ke special words)**  \n",
    "🔹 **Python me total 35 keywords hote hain**, jaise:  \n",
    "`if, else, elif, while, for, break, continue, True, False, None, return, import, pass, def, class`  \n",
    "\n",
    "Example:\n",
    "```python\n",
    "if age > 18:\n",
    "    print(\"You are an adult\")\n",
    "```\n",
    "\n",
    "---\n",
    "\n",
    "### **4️⃣ Comments (Code ke Notes likhna)**  \n",
    "🔹 **Single-line comment (`#`)**  \n",
    "```python\n",
    "# Ye ek comment hai\n",
    "```\n",
    "🔹 **Multi-line comment (`''' '''` ya `\"\"\" \"\"\"`)**  \n",
    "```python\n",
    "'''\n",
    "Yeh ek \n",
    "multi-line comment hai\n",
    "'''\n",
    "```\n",
    "\n",
    "---\n",
    "\n",
    "### **5️⃣ Operators (Maths & Logic in Python)**  \n",
    "📌 **Operators ke types:**  \n",
    "| Type | Operator |\n",
    "|------|---------|\n",
    "| **Arithmetic** | `+`, `-`, `*`, `/`, `%`, `**`, `//` |\n",
    "| **Comparison** | `==`, `!=`, `>`, `<`, `>=`, `<=` |\n",
    "| **Logical** | `and`, `or`, `not` |\n",
    "| **Assignment** | `=`, `+=`, `-=`, `*=`, `/=` |\n",
    "\n",
    "Example:\n",
    "```python\n",
    "a, b = 10, 5\n",
    "print(a + b)  # Addition\n",
    "print(a > b)  # Comparison\n",
    "```\n",
    "\n",
    "---\n",
    "\n",
    "### **6️⃣ if-else (Condition Check karna)**  \n",
    "Example:\n",
    "```python\n",
    "num = 10\n",
    "if num > 0:\n",
    "    print(\"Positive number\")\n",
    "else:\n",
    "    print(\"Negative number\")\n",
    "```\n",
    "\n",
    "---\n",
    "\n",
    "### **7️⃣ for loop (Repeat karne ka tarika)**  \n",
    "🔹 List ya range ke elements par **loop chalane** ke liye.  \n",
    "Example:\n",
    "```python\n",
    "for i in range(1, 6):  \n",
    "    print(i)  \n",
    "```\n",
    "📌 **Output:**  \n",
    "```\n",
    "1  \n",
    "2  \n",
    "3  \n",
    "4  \n",
    "5  \n",
    "```\n",
    "\n",
    "---\n",
    "\n",
    "### **🚀 Quick Summary**  \n",
    "✅ **Variable** – Data store karta hai  \n",
    "✅ **Data Types** – `int, float, str, bool, list, tuple, dict`  \n",
    "✅ **Keywords** – Special words (`if, else, for, True, False`)  \n",
    "✅ **Comments** – `# Single-line` aur `''' Multi-line '''`  \n",
    "✅ **Operators** – Maths (`+,-,*`), Logic (`and, or`), Compare (`>, <, ==`)  \n",
    "✅ **if-else** – Condition check karne ke liye  \n",
    "✅ **for loop** – Repeat karne ke liye  \n",
    "\n",
    "Agar ye revise ho gaya to **ek chhota program likh kar test karo!** 😃🚀"
   ]
  },
  {
   "cell_type": "code",
   "execution_count": 3,
   "metadata": {},
   "outputs": [
    {
     "ename": "IndexError",
     "evalue": "pop index out of range",
     "output_type": "error",
     "traceback": [
      "\u001b[1;31m---------------------------------------------------------------------------\u001b[0m",
      "\u001b[1;31mIndexError\u001b[0m                                Traceback (most recent call last)",
      "Cell \u001b[1;32mIn[3], line 2\u001b[0m\n\u001b[0;32m      1\u001b[0m lst \u001b[38;5;241m=\u001b[39m [ \u001b[38;5;241m2\u001b[39m,\u001b[38;5;241m4\u001b[39m,\u001b[38;5;241m5\u001b[39m,\u001b[38;5;241m7\u001b[39m,\u001b[38;5;241m885\u001b[39m,\u001b[38;5;241m444\u001b[39m]\n\u001b[1;32m----> 2\u001b[0m lst\u001b[38;5;241m.\u001b[39mpop(\u001b[38;5;241m7\u001b[39m)\n\u001b[0;32m      3\u001b[0m \u001b[38;5;28mprint\u001b[39m(lst)\n",
      "\u001b[1;31mIndexError\u001b[0m: pop index out of range"
     ]
    }
   ],
   "source": [
    "lst = [ 2,4,5,7,885,444]\n",
    "lst.pop(7)\n",
    "print(lst)"
   ]
  },
  {
   "cell_type": "code",
   "execution_count": 5,
   "metadata": {},
   "outputs": [
    {
     "name": "stdout",
     "output_type": "stream",
     "text": [
      "incorrect password\n"
     ]
    }
   ],
   "source": [
    "password = int(input('enter four digite password:'))\n",
    "if password==(9999):\n",
    "    print(\"password is correct:\")\n",
    "else:\n",
    "    print(\"incorrect password\")    "
   ]
  },
  {
   "cell_type": "code",
   "execution_count": 9,
   "metadata": {},
   "outputs": [
    {
     "name": "stdout",
     "output_type": "stream",
     "text": [
      "even no: 0 even no: 2 even no: 4 even no: 6 even no: 8 even no: 10 even no: 12 even no: 14 even no: 16 even no: 18 even no: 20 even no: 22 count of even no: 12\n"
     ]
    }
   ],
   "source": [
    "count=0\n",
    "for i in range(0,24):\n",
    "    if i%2==0:\n",
    "        count+=1\n",
    "        print(\"even no:\",i,end=\" \")\n",
    "print(\"count of even no:\",count)        "
   ]
  },
  {
   "cell_type": "code",
   "execution_count": 1,
   "metadata": {},
   "outputs": [
    {
     "name": "stdout",
     "output_type": "stream",
     "text": [
      "even no: 0 even no: 2 even no: 4 even no: 6 even no: 8 even no: 10 even no: 12 even no: 14 even no: 16 even no: 18 even no: 20 even no: 22 count of even no: 12\n"
     ]
    }
   ],
   "source": [
    "count=0\n",
    "for i in range(0,24):\n",
    "    if i%2==0:\n",
    "        count+=1\n",
    "        print(\"even no:\",i,end=\" \")\n",
    "print(\"count of even no:\",count)        "
   ]
  },
  {
   "cell_type": "code",
   "execution_count": 11,
   "metadata": {},
   "outputs": [
    {
     "name": "stdout",
     "output_type": "stream",
     "text": [
      "odd no : 1\n",
      "odd no : 3\n",
      "odd no : 5\n",
      "odd no : 7\n",
      "odd no : 9\n",
      "odd no : 11\n",
      "odd no : 13\n",
      "odd no : 15\n",
      "odd no : 17\n",
      "odd no : 19\n",
      "odd no : 21\n",
      "odd no : 23\n",
      "total odd no: 12\n"
     ]
    }
   ],
   "source": [
    "count=0\n",
    "for i in range(1,25):\n",
    "    if i%2!=0:\n",
    "        count+=1\n",
    "        print(\"odd no :\",i)\n",
    "print(\"total odd no:\",count)"
   ]
  },
  {
   "cell_type": "code",
   "execution_count": 16,
   "metadata": {},
   "outputs": [
    {
     "name": "stdout",
     "output_type": "stream",
     "text": [
      "4\n",
      "9\n",
      "16\n",
      "25\n",
      "36\n",
      "49\n",
      "64\n",
      "81\n",
      "100\n",
      "121\n",
      "144\n"
     ]
    }
   ],
   "source": [
    "\n",
    "for i in range(2,13):\n",
    "    print(i**2)\n"
   ]
  },
  {
   "cell_type": "code",
   "execution_count": 17,
   "metadata": {},
   "outputs": [
    {
     "name": "stdout",
     "output_type": "stream",
     "text": [
      "1\n",
      "8\n",
      "27\n",
      "64\n",
      "125\n",
      "216\n"
     ]
    }
   ],
   "source": [
    "for i in range(1,7):\n",
    "    print(i**3)"
   ]
  },
  {
   "cell_type": "code",
   "execution_count": 18,
   "metadata": {},
   "outputs": [
    {
     "name": "stdout",
     "output_type": "stream",
     "text": [
      "5X 1 = 5\n",
      "5X 2 = 10\n",
      "5X 3 = 15\n",
      "5X 4 = 20\n",
      "5X 5 = 25\n",
      "5X 6 = 30\n",
      "5X 7 = 35\n",
      "5X 8 = 40\n",
      "5X 9 = 45\n",
      "5X 10 = 50\n",
      "5X 11 = 55\n",
      "5X 12 = 60\n",
      "5X 13 = 65\n",
      "5X 14 = 70\n",
      "5X 15 = 75\n",
      "5X 16 = 80\n",
      "5X 17 = 85\n",
      "5X 18 = 90\n",
      "5X 19 = 95\n",
      "5X 20 = 100\n",
      "5X 21 = 105\n",
      "5X 22 = 110\n",
      "5X 23 = 115\n",
      "5X 24 = 120\n",
      "5X 25 = 125\n",
      "5X 26 = 130\n",
      "5X 27 = 135\n",
      "5X 28 = 140\n",
      "5X 29 = 145\n",
      "5X 30 = 150\n",
      "5X 31 = 155\n",
      "5X 32 = 160\n",
      "5X 33 = 165\n",
      "5X 34 = 170\n",
      "5X 35 = 175\n",
      "5X 36 = 180\n",
      "5X 37 = 185\n",
      "5X 38 = 190\n",
      "5X 39 = 195\n",
      "5X 40 = 200\n",
      "5X 41 = 205\n",
      "5X 42 = 210\n",
      "5X 43 = 215\n",
      "5X 44 = 220\n",
      "5X 45 = 225\n",
      "5X 46 = 230\n",
      "5X 47 = 235\n",
      "5X 48 = 240\n",
      "5X 49 = 245\n",
      "5X 50 = 250\n"
     ]
    }
   ],
   "source": [
    "for i in range(1,51):\n",
    "    print(\"5\"\"X\",i,\"=\",5*i)"
   ]
  },
  {
   "cell_type": "code",
   "execution_count": 19,
   "metadata": {},
   "outputs": [
    {
     "name": "stdout",
     "output_type": "stream",
     "text": [
      "12\n",
      "24\n"
     ]
    }
   ],
   "source": [
    "for i in range(1,31):\n",
    "    if i%3==0 and i%4==0:\n",
    "        print(i)"
   ]
  },
  {
   "cell_type": "code",
   "execution_count": 22,
   "metadata": {},
   "outputs": [
    {
     "name": "stdout",
     "output_type": "stream",
     "text": [
      "1\n",
      "2\n",
      "3\n",
      "4\n",
      "5\n",
      "6\n",
      "8\n",
      "9\n",
      "10\n",
      "11\n",
      "12\n",
      "13\n",
      "15\n",
      "16\n",
      "17\n",
      "18\n",
      "19\n",
      "20\n",
      "22\n",
      "23\n",
      "24\n",
      "25\n",
      "26\n",
      "27\n",
      "29\n",
      "30\n",
      "31\n",
      "32\n",
      "33\n",
      "34\n",
      "36\n",
      "37\n",
      "38\n",
      "39\n",
      "40\n"
     ]
    }
   ],
   "source": [
    "for i in range(1,41):\n",
    "    if i%7!=0:\n",
    "        print(i)"
   ]
  },
  {
   "cell_type": "code",
   "execution_count": 6,
   "metadata": {},
   "outputs": [
    {
     "name": "stdout",
     "output_type": "stream",
     "text": [
      "91\n"
     ]
    }
   ],
   "source": [
    "sum=0\n",
    "for i in range(1,7):\n",
    "   sum+=(i**2)\n",
    "print(sum)   \n",
    "\n",
    "\n",
    "   \n",
    "   "
   ]
  },
  {
   "cell_type": "code",
   "execution_count": null,
   "metadata": {},
   "outputs": [
    {
     "name": "stdout",
     "output_type": "stream",
     "text": [
      "0\n"
     ]
    }
   ],
   "source": [
    "sum_of_squeres=0\n",
    "for i in range(1,7):\n",
    "    sum_of_squeres+=(i**2)\n",
    "print(sum_of_squeres)    "
   ]
  },
  {
   "cell_type": "code",
   "execution_count": 1,
   "metadata": {},
   "outputs": [],
   "source": [
    "# armstrong number fuction\n",
    "def armstrong(n):\n",
    "    a=len(str(n))\n",
    "    old=n\n",
    "    sumdigit=0\n",
    "    while n!=0:\n",
    "        dig=n%10\n",
    "        sumdigit=sumdigit+(dig**a)\n",
    "        n=n//10\n",
    "    return sumdigit==old"
   ]
  },
  {
   "cell_type": "code",
   "execution_count": 6,
   "metadata": {},
   "outputs": [
    {
     "name": "stdout",
     "output_type": "stream",
     "text": [
      "1\n",
      "2\n",
      "3\n",
      "4\n",
      "5\n"
     ]
    }
   ],
   "source": [
    "num = 1 \n",
    "while num<=5:\n",
    "    print(num)\n",
    "    num+=1"
   ]
  }
 ],
 "metadata": {
  "kernelspec": {
   "display_name": "base",
   "language": "python",
   "name": "python3"
  },
  "language_info": {
   "codemirror_mode": {
    "name": "ipython",
    "version": 3
   },
   "file_extension": ".py",
   "mimetype": "text/x-python",
   "name": "python",
   "nbconvert_exporter": "python",
   "pygments_lexer": "ipython3",
   "version": "3.12.4"
  }
 },
 "nbformat": 4,
 "nbformat_minor": 2
}
