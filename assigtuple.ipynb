{
 "cells": [
  {
   "cell_type": "code",
   "execution_count": 6,
   "metadata": {},
   "outputs": [
    {
     "name": "stdout",
     "output_type": "stream",
     "text": [
      "True\n",
      "True\n",
      "False\n"
     ]
    }
   ],
   "source": [
    "t = (('Red', 'White', 'Blue'), ('Green', 'Pink', 'Purple'), ('Orange', 'Yellow','Lime'))\n",
    "print('White' in t[0])\n",
    "print('White' in t[0])\n",
    "print('olive'in (t[0],t[1],t[2]))"
   ]
  },
  {
   "cell_type": "code",
   "execution_count": 15,
   "metadata": {},
   "outputs": [
    {
     "name": "stdout",
     "output_type": "stream",
     "text": [
      "assending order\n"
     ]
    }
   ],
   "source": [
    "t = (2,3,8,25,20,24)\n",
    "# print(type(t))\n",
    "y = 0\n",
    "for i in range(len(t)):\n",
    "  if y-t[i]<y:\n",
    "    print(\"assending order\")\n",
    "    break\n",
    "  else:\n",
    "   print(None)\n",
    "     "
   ]
  },
  {
   "cell_type": "code",
   "execution_count": 18,
   "metadata": {},
   "outputs": [
    {
     "name": "stdout",
     "output_type": "stream",
     "text": [
      "[89, 57, 3, 2, 1, 0]\n"
     ]
    }
   ],
   "source": [
    "r = (2,3,57,89,0,1)\n",
    "t=sorted(r,reverse=True)\n",
    "r=list(t)\n",
    "print(r)"
   ]
  },
  {
   "cell_type": "code",
   "execution_count": null,
   "metadata": {},
   "outputs": [
    {
     "name": "stdout",
     "output_type": "stream",
     "text": [
      "[0, 1, 2, 3, 57, 89]\n"
     ]
    }
   ],
   "source": [
    "r = (2,3,57,89,0,1)\n",
    "t=sorted(r)\n",
    "r=list(t)\n",
    "print(r)\n"
   ]
  },
  {
   "cell_type": "code",
   "execution_count": null,
   "metadata": {},
   "outputs": [
    {
     "name": "stdout",
     "output_type": "stream",
     "text": [
      "dissending order\n",
      "dissending order\n",
      "dissending order\n",
      "dissending order\n",
      "dissending order\n",
      "dissending order\n"
     ]
    }
   ],
   "source": [
    "t = (968,234,45,3,22,1)\n",
    "# print(type(t))\n",
    "y = 0\n",
    "for i in range(len(t)):\n",
    "  if y+t[i]>y:\n",
    "    print(\"dissending order\")\n",
    "  else:\n",
    "   print(None)\n",
    "   break\n",
    "     "
   ]
  }
 ],
 "metadata": {
  "kernelspec": {
   "display_name": "base",
   "language": "python",
   "name": "python3"
  },
  "language_info": {
   "codemirror_mode": {
    "name": "ipython",
    "version": 3
   },
   "file_extension": ".py",
   "mimetype": "text/x-python",
   "name": "python",
   "nbconvert_exporter": "python",
   "pygments_lexer": "ipython3",
   "version": "3.12.4"
  }
 },
 "nbformat": 4,
 "nbformat_minor": 2
}
