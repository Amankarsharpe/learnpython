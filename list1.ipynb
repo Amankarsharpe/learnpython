{
 "cells": [
  {
   "cell_type": "code",
   "execution_count": 5,
   "metadata": {},
   "outputs": [
    {
     "name": "stdout",
     "output_type": "stream",
     "text": [
      "['apple', 'banana', 'cherry']\n",
      "['aman ', 7.8, 'noshit', 'ayush']\n",
      "['aman ', 7.8, 'riya', 'noshit', 'ayush']\n"
     ]
    }
   ],
   "source": [
    "fruits = [\"apple\", \"banana\", \"cherry\"]\n",
    "print(fruits)        \n",
    "  \n",
    "student = [\"aman \",7.8,\"noshit\"]\n",
    "student.append(\"ayush\")\n",
    "print(student)\n",
    "student.insert(-2,\"riya\") #it is also read the arraye form  negative said like \n",
    "print(student)\n",
    "\n",
    "\n",
    "\n"
   ]
  },
  {
   "cell_type": "markdown",
   "metadata": {},
   "source": []
  },
  {
   "cell_type": "markdown",
   "metadata": {},
   "source": [
    "or agar hame list me koi bhi new value add karna ho end me to hamm append use karte he \n",
    "jese = pehle variable ka nam ,. .(\"\")\n",
    "fruits.append(\"orange\")"
   ]
  },
  {
   "cell_type": "code",
   "execution_count": 6,
   "metadata": {},
   "outputs": [
    {
     "name": "stdout",
     "output_type": "stream",
     "text": [
      "['apple', 'banana', 'cherry', 'orange']\n"
     ]
    }
   ],
   "source": [
    "fruits.append(\"orange\")\n",
    "print(fruits)"
   ]
  },
  {
   "cell_type": "markdown",
   "metadata": {},
   "source": [
    "insert kam karta he list ke kisi bhi jagha  par new element ya value add kar sakt ahe or position ham array ke hisab se rak sakte he \n",
    "ex= fruits.(0,\"mango\")\n",
    "print(fruits)"
   ]
  },
  {
   "cell_type": "code",
   "execution_count": 7,
   "metadata": {},
   "outputs": [
    {
     "name": "stdout",
     "output_type": "stream",
     "text": [
      "['mango', 'apple', 'banana', 'cherry', 'orange']\n",
      "[39, 34948, '666', 744, 4848]\n"
     ]
    }
   ],
   "source": [
    "fruits.insert(0, \"mango\")  # index 1 par \"orange\" add karega\n",
    "print(fruits)\n",
    "aman= [39,34948,744,4848]\n",
    "aman.insert(2,\"666\")\n",
    "print(aman)\n"
   ]
  },
  {
   "cell_type": "markdown",
   "metadata": {},
   "source": [
    "extend list me ek dusri list ko add karne ka kam karta he \n",
    "jese ex = hum ek new list bana sakte he or old list ke sath .extend(new list ka nam)\n",
    "than print (fruits)"
   ]
  },
  {
   "cell_type": "code",
   "execution_count": 8,
   "metadata": {},
   "outputs": [
    {
     "name": "stdout",
     "output_type": "stream",
     "text": [
      "['aman ', 7.8, 'riya', 'noshit', 'ayush', 'grapes', 'pineapple']\n"
     ]
    }
   ],
   "source": [
    "more_fruits = [\"grapes\", \"pineapple\"]\n",
    "student.extend(more_fruits)\n",
    "print(student)\n"
   ]
  },
  {
   "cell_type": "markdown",
   "metadata": {},
   "source": [
    "Function  Kya karta hai?          \t                      Example\n",
    "append()  Last me ek element add kare                \t  fruits.append(\"mango\")\n",
    "insert()  Kisi bhi position par element add kare     \t  fruits.insert(1, \"orange\")\n",
    "extend()  Ek list me doosri list ke elements add kare\t  fruits.extend([\"grapes\", \"pineapple\"])"
   ]
  },
  {
   "cell_type": "markdown",
   "metadata": {},
   "source": [
    "five more function or list\n",
    "remove\n",
    "delete\n",
    "count\n",
    "index\n",
    "length"
   ]
  },
  {
   "cell_type": "code",
   "execution_count": 9,
   "metadata": {},
   "outputs": [
    {
     "name": "stdout",
     "output_type": "stream",
     "text": [
      "[23, 34, 34, 2, 77, 88, 99, 8]\n"
     ]
    }
   ],
   "source": [
    "mylist =[23,34,34,34,2,77,88,99,8]\n",
    "mylist.remove(34)\n",
    "print(mylist)"
   ]
  },
  {
   "cell_type": "code",
   "execution_count": 10,
   "metadata": {},
   "outputs": [
    {
     "data": {
      "text/plain": [
       "2"
      ]
     },
     "execution_count": 10,
     "metadata": {},
     "output_type": "execute_result"
    }
   ],
   "source": [
    "mylist.count(34)"
   ]
  },
  {
   "cell_type": "code",
   "execution_count": 11,
   "metadata": {},
   "outputs": [
    {
     "name": "stdout",
     "output_type": "stream",
     "text": [
      "[34, 34, 2, 77, 88, 99, 8]\n"
     ]
    }
   ],
   "source": [
    "del mylist[0] #it is also write like pop methodes\n",
    "print(mylist)\n"
   ]
  },
  {
   "cell_type": "code",
   "execution_count": null,
   "metadata": {},
   "outputs": [],
   "source": []
  },
  {
   "cell_type": "code",
   "execution_count": 12,
   "metadata": {},
   "outputs": [
    {
     "name": "stdout",
     "output_type": "stream",
     "text": [
      "6\n"
     ]
    }
   ],
   "source": [
    "\n",
    "print(mylist.index(8))"
   ]
  },
  {
   "cell_type": "code",
   "execution_count": null,
   "metadata": {},
   "outputs": [],
   "source": []
  },
  {
   "cell_type": "code",
   "execution_count": 13,
   "metadata": {},
   "outputs": [
    {
     "name": "stdout",
     "output_type": "stream",
     "text": [
      "7\n"
     ]
    }
   ],
   "source": [
    "print(len(mylist))"
   ]
  },
  {
   "cell_type": "code",
   "execution_count": 14,
   "metadata": {},
   "outputs": [
    {
     "name": "stdout",
     "output_type": "stream",
     "text": [
      "[-4, -2, 7, 0, 13, 9, 17, 10, 12, 27]\n"
     ]
    }
   ],
   "source": [
    "mylist = [3,5,2,7,8,4,12,17,19,22]\n",
    "\n",
    "for i in range (len(mylist)):\n",
    "    if mylist[i]%2==0:\n",
    "        mylist[i]+=5\n",
    "    else:\n",
    "        mylist[i]-=7\n",
    "print(mylist)            "
   ]
  },
  {
   "cell_type": "code",
   "execution_count": 15,
   "metadata": {},
   "outputs": [
    {
     "name": "stdout",
     "output_type": "stream",
     "text": [
      "['fizzbuzz', 5, 2, 'buzz', 8, 'fizz', 'buzz', 17, 19, 'buzz', 'fizz', 55, 'buzz', 14]\n"
     ]
    }
   ],
   "source": [
    "lst= [3,5,2,7,8,4,12,17,19,22,6,55,13,14]\n",
    "for i in range(len(lst)):\n",
    "    if i%5==0 and i%3==0:\n",
    "        lst[i]=(\"fizzbuzz\")\n",
    "    elif i%3==0:\n",
    "        lst[i]=(\"buzz\")   \n",
    "    elif i%5==0:\n",
    "        lst[i]=(\"fizz\") \n",
    "print(lst)         \n",
    "       "
   ]
  },
  {
   "cell_type": "code",
   "execution_count": null,
   "metadata": {},
   "outputs": [
    {
     "name": "stdout",
     "output_type": "stream",
     "text": [
      "[0, 1, 2, 3, 8, 9]\n",
      "[3, 2, 0, 1, 8, 9]\n"
     ]
    }
   ],
   "source": [
    "num = [ 3,2,0,1,8,9]\n",
    "a = sorted(num)\n",
    "print(a)\n",
    "print(num)"
   ]
  },
  {
   "cell_type": "code",
   "execution_count": null,
   "metadata": {},
   "outputs": [
    {
     "name": "stdout",
     "output_type": "stream",
     "text": [
      "[0, 1, 2, 3, 8, 9]\n",
      "[0, 1, 2, 3, 8, 9]\n"
     ]
    }
   ],
   "source": [
    "num = [ 3,2,0,1,8,9]\n",
    "num.sort()\n",
    "print(num)\n",
    "print(num)"
   ]
  },
  {
   "cell_type": "code",
   "execution_count": null,
   "metadata": {},
   "outputs": [
    {
     "name": "stdout",
     "output_type": "stream",
     "text": [
      "[9, 8, 3, 2, 1, 0]\n"
     ]
    }
   ],
   "source": [
    "num = [ 3,2,0,1,8,9]\n",
    "num.sort(reverse=True)\n",
    "print(num)\n"
   ]
  },
  {
   "cell_type": "code",
   "execution_count": 23,
   "metadata": {},
   "outputs": [
    {
     "name": "stdout",
     "output_type": "stream",
     "text": [
      "4\n"
     ]
    }
   ],
   "source": [
    "num = [4,56,466,345,335]\n",
    "a = min(num)\n",
    "print(a)"
   ]
  },
  {
   "cell_type": "code",
   "execution_count": null,
   "metadata": {},
   "outputs": [],
   "source": [
    "num = [4,56,466,345,335]\n",
    "a = max(num)\n",
    "print(a)"
   ]
  },
  {
   "cell_type": "code",
   "execution_count": 31,
   "metadata": {},
   "outputs": [
    {
     "name": "stdout",
     "output_type": "stream",
     "text": [
      "[56, 466, 345, 335]\n"
     ]
    }
   ],
   "source": [
    "num = [4,56,466,345,335]\n",
    "num.pop(0)\n",
    "print(num)"
   ]
  },
  {
   "cell_type": "code",
   "execution_count": 37,
   "metadata": {},
   "outputs": [
    {
     "name": "stdout",
     "output_type": "stream",
     "text": [
      "[2, 4, 6, 8, 12]\n",
      "[2, 4, 6, 8, 12]\n"
     ]
    }
   ],
   "source": [
    "lst = [1,2,3,4,5,6,7,8,9,12,11]\n",
    "even=[]\n",
    "for i in range(len(lst)):\n",
    "    if lst[i]%2==0:\n",
    "        even.append(lst[i])\n",
    "print(even)        \n",
    "print(even)"
   ]
  },
  {
   "cell_type": "code",
   "execution_count": null,
   "metadata": {},
   "outputs": [],
   "source": []
  },
  {
   "cell_type": "code",
   "execution_count": 54,
   "metadata": {},
   "outputs": [
    {
     "name": "stdout",
     "output_type": "stream",
     "text": [
      "[4, 66, 23, 677, 3445]\n",
      "this is delated num: 2\n"
     ]
    }
   ],
   "source": [
    "lst = [2,4,66,23,677,3445,]\n",
    "a=2\n",
    "del lst[0]\n",
    "print(lst)\n",
    "print(\"this is delated num:\",a)\n"
   ]
  },
  {
   "cell_type": "code",
   "execution_count": 58,
   "metadata": {},
   "outputs": [
    {
     "name": "stdout",
     "output_type": "stream",
     "text": [
      "[1, 25, 44, 33, 56]\n",
      "this is deleted num: 3\n"
     ]
    }
   ],
   "source": [
    "num = [1,25,3,44,33,56]\n",
    "a=3\n",
    "num.remove(3)\n",
    "print(num)\n",
    "print(\"this is deleted num:\",a)"
   ]
  },
  {
   "cell_type": "code",
   "execution_count": 59,
   "metadata": {},
   "outputs": [
    {
     "data": {
      "text/plain": [
       "5"
      ]
     },
     "execution_count": 59,
     "metadata": {},
     "output_type": "execute_result"
    }
   ],
   "source": [
    "lst= [15,2,2,3,4,2,7,8,45,2,2,]\n",
    "lst.count(2)\n"
   ]
  },
  {
   "cell_type": "code",
   "execution_count": 61,
   "metadata": {},
   "outputs": [
    {
     "name": "stdout",
     "output_type": "stream",
     "text": [
      "[65, 24, 35, 22, 15]\n"
     ]
    }
   ],
   "source": [
    "lst=[15,22,35,24,65]\n",
    "lst.reverse()\n",
    "print(lst)\n"
   ]
  },
  {
   "cell_type": "code",
   "execution_count": 62,
   "metadata": {},
   "outputs": [
    {
     "name": "stdout",
     "output_type": "stream",
     "text": [
      "[4, 2, 5, 1, 3, 6, 8, 10, 3, 5, 7]\n"
     ]
    }
   ],
   "source": [
    "lst = [4,2,5,1,3,6,8,10,3,5]\n",
    "lst.append(7)\n",
    "lst.sort\n",
    "print(lst)"
   ]
  },
  {
   "cell_type": "code",
   "execution_count": 64,
   "metadata": {},
   "outputs": [
    {
     "name": "stdout",
     "output_type": "stream",
     "text": [
      "[10, 12, 24, 24, 45]\n"
     ]
    }
   ],
   "source": [
    "lst=[12,24,35,24,45]\n",
    "lst.insert(0,10)\n",
    "lst.remove(35)\n",
    "print(lst)"
   ]
  },
  {
   "cell_type": "code",
   "execution_count": 10,
   "metadata": {},
   "outputs": [
    {
     "name": "stdout",
     "output_type": "stream",
     "text": [
      "[2, 4, 5, 6, 7, 4, 3, 2, 2, 7]\n",
      "[2, 5, 6, 7, 4, 3, 2, 2, 7]\n"
     ]
    }
   ],
   "source": [
    "list =[2,4,5,6,7,4,3,2,2]\n",
    "list.append(7)\n",
    "print(list)\n",
    "list.count(2)\n",
    "del list[1]\n",
    "print(list)\n"
   ]
  },
  {
   "cell_type": "code",
   "execution_count": 3,
   "metadata": {},
   "outputs": [
    {
     "ename": "SyntaxError",
     "evalue": "invalid syntax. Maybe you meant '==' or ':=' instead of '='? (2945337757.py, line 3)",
     "output_type": "error",
     "traceback": [
      "\u001b[1;36m  Cell \u001b[1;32mIn[3], line 3\u001b[1;36m\u001b[0m\n\u001b[1;33m    lst2 = [aman=[i]**2 for i in (len(aman)): if aman=[i]%2==0]\u001b[0m\n\u001b[1;37m            ^\u001b[0m\n\u001b[1;31mSyntaxError\u001b[0m\u001b[1;31m:\u001b[0m invalid syntax. Maybe you meant '==' or ':=' instead of '='?\n"
     ]
    }
   ],
   "source": [
    "aman =[2,4,5,6,7,4,3,2,2]\n",
    "\n",
    "lst2 = [aman=[i]**2 for i in (len(aman)): if aman=[i]%2==0]\n",
    "print(lst2)\n"
   ]
  },
  {
   "cell_type": "code",
   "execution_count": 6,
   "metadata": {},
   "outputs": [
    {
     "name": "stdout",
     "output_type": "stream",
     "text": [
      "[13, 234, 2432, 2234, 234, 432, 456, 322]\n",
      "[13, 234, 2432, 2234]\n"
     ]
    }
   ],
   "source": [
    "lst= [ 13,234,2432,2234,]\n",
    "lst2= [234,432,456,322]\n",
    "lst3 = (lst+lst2)\n",
    "print(lst3)\n",
    "print(lst)"
   ]
  },
  {
   "cell_type": "code",
   "execution_count": 11,
   "metadata": {},
   "outputs": [
    {
     "name": "stdout",
     "output_type": "stream",
     "text": [
      "[2444, 346, 36, 2, 78, 4, 2245, 23]\n"
     ]
    }
   ],
   "source": [
    "lst = [2444,346,36,33,78,4,2245,23,]\n",
    "       #{01234566-5--4-3-2-1}\n",
    "lst.insert(-4,2)\n",
    "lst.pop(3)\n",
    "print(lst)"
   ]
  },
  {
   "cell_type": "code",
   "execution_count": null,
   "metadata": {},
   "outputs": [
    {
     "name": "stdout",
     "output_type": "stream",
     "text": [
      "[24, 244, 243, 563, 4345, 9]\n"
     ]
    },
    {
     "ename": "AttributeError",
     "evalue": "'builtin_function_or_method' object has no attribute 'pop'",
     "output_type": "error",
     "traceback": [
      "\u001b[1;31m---------------------------------------------------------------------------\u001b[0m",
      "\u001b[1;31mAttributeError\u001b[0m                            Traceback (most recent call last)",
      "Cell \u001b[1;32mIn[7], line 5\u001b[0m\n\u001b[0;32m      3\u001b[0m lst\u001b[38;5;241m.\u001b[39mappend(\u001b[38;5;241m9\u001b[39m)\n\u001b[0;32m      4\u001b[0m \u001b[38;5;28mprint\u001b[39m(lst)\n\u001b[1;32m----> 5\u001b[0m lst2\u001b[38;5;241m.\u001b[39mpop[\u001b[38;5;241m1\u001b[39m]\n\u001b[0;32m      6\u001b[0m \u001b[38;5;28mprint\u001b[39m(lst2)\n",
      "\u001b[1;31mAttributeError\u001b[0m: 'builtin_function_or_method' object has no attribute 'pop'"
     ]
    }
   ],
   "source": [
    "lst = [24,244,243,563,4345,]\n",
    "lst2=lst.copy\n",
    "lst.append(9)\n",
    "print(lst)\n",
    "lst2.pop[]\n",
    "print(lst2)"
   ]
  },
  {
   "cell_type": "code",
   "execution_count": null,
   "metadata": {},
   "outputs": [
    {
     "ename": "IndexError",
     "evalue": "list index out of range",
     "output_type": "error",
     "traceback": [
      "\u001b[1;31m---------------------------------------------------------------------------\u001b[0m",
      "\u001b[1;31mIndexError\u001b[0m                                Traceback (most recent call last)",
      "Cell \u001b[1;32mIn[13], line 8\u001b[0m\n\u001b[0;32m      6\u001b[0m       lst3\u001b[38;5;241m.\u001b[39mappend(lst[i])\n\u001b[0;32m      7\u001b[0m \u001b[38;5;28;01mfor\u001b[39;00m i \u001b[38;5;129;01min\u001b[39;00m \u001b[38;5;28mrange\u001b[39m(\u001b[38;5;28mlen\u001b[39m(lst2)):\n\u001b[1;32m----> 8\u001b[0m    \u001b[38;5;28;01mif\u001b[39;00m lst[i] \u001b[38;5;129;01mnot\u001b[39;00m \u001b[38;5;129;01min\u001b[39;00m lst3:\n\u001b[0;32m      9\u001b[0m       lst3\u001b[38;5;241m.\u001b[39mappend(lst[i])\n\u001b[0;32m     10\u001b[0m \u001b[38;5;28mprint\u001b[39m(lst3)\n",
      "\u001b[1;31mIndexError\u001b[0m: list index out of range"
     ]
    }
   ],
   "source": [
    "lst = [3,5,3,7,9,12]\n",
    "lst2 = [2,8,7,9,11,13,8]\n",
    "lst3 = []\n",
    "for i in range(len(lst)):\n",
    "   if lst[i] not in lst3:\n",
    "      lst3.append(lst[i])\n",
    "for i in range(len(lst2)):\n",
    "   if lst[i] not in lst3:\n",
    "      lst3.append(lst[i])\n",
    "print(lst3)        \n",
    "                   \n"
   ]
  },
  {
   "cell_type": "code",
   "execution_count": 15,
   "metadata": {},
   "outputs": [
    {
     "name": "stdout",
     "output_type": "stream",
     "text": [
      "[7, 9]\n"
     ]
    }
   ],
   "source": [
    "lst = [3,5,3,7,9,12,7]\n",
    "lst2 = [2,8,7,9,11,13,8]\n",
    "lst3 = []\n",
    "for i in range(len(lst)):\n",
    "    if lst[i]in lst2 and lst[i] not in lst3:\n",
    "        lst3.append(lst[i])\n",
    "print(lst3)        "
   ]
  },
  {
   "cell_type": "code",
   "execution_count": null,
   "metadata": {},
   "outputs": [],
   "source": [
    "lst1 = [24,34,46,367,355]\n",
    "lst2 = [13,664,844,]\n",
    "lst3 = []\n",
    "for i in range(len(lst1)):\n",
    "    temp =lst[i]+lst"
   ]
  },
  {
   "cell_type": "code",
   "execution_count": null,
   "metadata": {},
   "outputs": [],
   "source": [
    "lst = [7,8,35,225,775,24,]\n",
    "lst2 = [35,356,216,775,24]\n",
    "lst3 = []\n",
    "for i in range(len(lst)):\n",
    "    if lst[i]<lst2[i]:\n",
    "        lst3.append(lst[i])\n",
    "elif:\n",
    "     \n",
    "       "
   ]
  },
  {
   "cell_type": "code",
   "execution_count": null,
   "metadata": {},
   "outputs": [],
   "source": [
    "lst = [3,5,7,9,11,13,15]\n",
    "for i in range(i,len(lst)):\n",
    "    if lst[<lst[lst]]"
   ]
  },
  {
   "cell_type": "code",
   "execution_count": null,
   "metadata": {},
   "outputs": [],
   "source": [
    "lst = [24,35622,74332,83,743,7433]\n",
    "lst2 = [23,46,34,78,4784,24,]\n",
    "lst3 = []\n",
    "for i in range (len(lst)):\n",
    "    if lst[i]"
   ]
  },
  {
   "cell_type": "code",
   "execution_count": null,
   "metadata": {},
   "outputs": [],
   "source": [
    "a = []"
   ]
  }
 ],
 "metadata": {
  "kernelspec": {
   "display_name": "base",
   "language": "python",
   "name": "python3"
  },
  "language_info": {
   "codemirror_mode": {
    "name": "ipython",
    "version": 3
   },
   "file_extension": ".py",
   "mimetype": "text/x-python",
   "name": "python",
   "nbconvert_exporter": "python",
   "pygments_lexer": "ipython3",
   "version": "3.12.4"
  }
 },
 "nbformat": 4,
 "nbformat_minor": 2
}
