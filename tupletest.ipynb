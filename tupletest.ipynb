{
 "cells": [
  {
   "cell_type": "code",
   "execution_count": 3,
   "metadata": {},
   "outputs": [
    {
     "name": "stdout",
     "output_type": "stream",
     "text": [
      "True\n"
     ]
    }
   ],
   "source": [
    "t = ('red', 'green', 'blue', 'yellow')\n",
    "print(\"blue\" in t)\n",
    "       "
   ]
  },
  {
   "cell_type": "code",
   "execution_count": 10,
   "metadata": {},
   "outputs": [
    {
     "name": "stdout",
     "output_type": "stream",
     "text": [
      "<class 'tuple'>\n",
      "('apple', 'cherry')\n"
     ]
    }
   ],
   "source": [
    "f = 'apple','banana','cherry'\n",
    "print(type(f))\n",
    "print(f[0::2],)"
   ]
  },
  {
   "cell_type": "code",
   "execution_count": 11,
   "metadata": {},
   "outputs": [
    {
     "name": "stdout",
     "output_type": "stream",
     "text": [
      "('b', 'c', 'd')\n"
     ]
    }
   ],
   "source": [
    "tpl = ('a', 'b', 'c', 'd', 'e')\n",
    "print(tpl[1:4:1])"
   ]
  },
  {
   "cell_type": "code",
   "execution_count": 21,
   "metadata": {},
   "outputs": [
    {
     "name": "stdout",
     "output_type": "stream",
     "text": [
      "('a', 'b', 'c', 'd', 'e', 'f')\n"
     ]
    }
   ],
   "source": [
    "t1 = ('a', 'b', 'c')\n",
    "t2 = ('d', 'e', 'f')\n",
    "t1 = t1+t2\n",
    "print(t1)\n",
    "t1=[]\n",
    "t1=sorted\n"
   ]
  },
  {
   "cell_type": "code",
   "execution_count": 25,
   "metadata": {},
   "outputs": [
    {
     "name": "stdout",
     "output_type": "stream",
     "text": [
      "3\n",
      "2\n"
     ]
    }
   ],
   "source": [
    "t = (1, 2, 3, 4, 5, 5, 5, 6)\n",
    "print(t.count(5))\n",
    "print(t.index(3))"
   ]
  },
  {
   "cell_type": "code",
   "execution_count": null,
   "metadata": {},
   "outputs": [
    {
     "name": "stdout",
     "output_type": "stream",
     "text": [
      "('cat', 'dog')\n",
      "('cat', 'dog', 'elephant', 'mouse')\n"
     ]
    }
   ],
   "source": [
    "h = ('cat', 'dog','mouse', 'elephant')\n",
    "\n",
    "print(h[0:2:])\n",
    "t=sorted(h)\n",
    "t=tuple(t)\n",
    "print(t)\n",
    "   \n"
   ]
  },
  {
   "cell_type": "code",
   "execution_count": 39,
   "metadata": {},
   "outputs": [
    {
     "name": "stdout",
     "output_type": "stream",
     "text": [
      "ruby\n",
      "False\n"
     ]
    }
   ],
   "source": [
    "tpl = ('python', 'java', 'c++', 'ruby')\n",
    "print(tpl[-1])\n",
    "print(\"hello\"in tpl)"
   ]
  },
  {
   "cell_type": "code",
   "execution_count": 74,
   "metadata": {},
   "outputs": [
    {
     "name": "stdout",
     "output_type": "stream",
     "text": [
      "3\n",
      "['hello', 'world', 'python', 3]\n",
      "('hello', 'world', 'python', 3)\n"
     ]
    }
   ],
   "source": [
    "g = ('hello','world', 'python')\n",
    "print(len(g))\n",
    "h=g\n",
    "g=list(g)\n",
    "g.append(3)\n",
    "print(g)\n",
    "g=tuple(g)\n",
    "print(g)\n",
    "\n",
    "\n",
    "\n"
   ]
  },
  {
   "cell_type": "code",
   "execution_count": 76,
   "metadata": {},
   "outputs": [
    {
     "name": "stdout",
     "output_type": "stream",
     "text": [
      "(1, 2, 5, 5, 6, 3)\n",
      "5\n"
     ]
    }
   ],
   "source": [
    "t = (1, 2, 5, 5, 6, 3, 4, 5, 5, 5, 6)\n",
    "print(t[:6:])\n",
    "print(t.count(5))"
   ]
  },
  {
   "cell_type": "code",
   "execution_count": 79,
   "metadata": {},
   "outputs": [
    {
     "name": "stdout",
     "output_type": "stream",
     "text": [
      "('java', 'python', 'c', 'ruby')\n",
      "c\n"
     ]
    }
   ],
   "source": [
    "t1 = ('java', 'python')\n",
    "t2 = ('c', 'ruby')\n",
    "t3 = t1+t2\n",
    "print(t3)\n",
    "print(t3[2])"
   ]
  }
 ],
 "metadata": {
  "kernelspec": {
   "display_name": "base",
   "language": "python",
   "name": "python3"
  },
  "language_info": {
   "codemirror_mode": {
    "name": "ipython",
    "version": 3
   },
   "file_extension": ".py",
   "mimetype": "text/x-python",
   "name": "python",
   "nbconvert_exporter": "python",
   "pygments_lexer": "ipython3",
   "version": "3.12.4"
  }
 },
 "nbformat": 4,
 "nbformat_minor": 2
}
